{
 "cells": [
  {
   "cell_type": "markdown",
   "id": "f8e5101f",
   "metadata": {},
   "source": [
    "# Statistical Treatment For Retail Dataset"
   ]
  },
  {
   "cell_type": "markdown",
   "id": "01a2f56f",
   "metadata": {},
   "source": [
    "# Membaca Data"
   ]
  },
  {
   "cell_type": "markdown",
   "id": "a8144a90",
   "metadata": {},
   "source": [
    "Mengimport library pandas"
   ]
  },
  {
   "cell_type": "code",
   "execution_count": 74,
   "id": "b9a0169d",
   "metadata": {},
   "outputs": [],
   "source": [
    "import pandas as pd"
   ]
  },
  {
   "cell_type": "markdown",
   "id": "47aa6c03",
   "metadata": {},
   "source": [
    "Load the Data"
   ]
  },
  {
   "cell_type": "code",
   "execution_count": 75,
   "id": "76ad245f",
   "metadata": {},
   "outputs": [
    {
     "data": {
      "text/html": [
       "<div>\n",
       "<style scoped>\n",
       "    .dataframe tbody tr th:only-of-type {\n",
       "        vertical-align: middle;\n",
       "    }\n",
       "\n",
       "    .dataframe tbody tr th {\n",
       "        vertical-align: top;\n",
       "    }\n",
       "\n",
       "    .dataframe thead th {\n",
       "        text-align: right;\n",
       "    }\n",
       "</style>\n",
       "<table border=\"1\" class=\"dataframe\">\n",
       "  <thead>\n",
       "    <tr style=\"text-align: right;\">\n",
       "      <th></th>\n",
       "      <th>Unnamed: 0</th>\n",
       "      <th>BOROUGH</th>\n",
       "      <th>NEIGHBORHOOD</th>\n",
       "      <th>BUILDING CLASS CATEGORY</th>\n",
       "      <th>TAX CLASS AT PRESENT</th>\n",
       "      <th>BLOCK</th>\n",
       "      <th>LOT</th>\n",
       "      <th>EASE-MENT</th>\n",
       "      <th>BUILDING CLASS AT PRESENT</th>\n",
       "      <th>ADDRESS</th>\n",
       "      <th>...</th>\n",
       "      <th>RESIDENTIAL UNITS</th>\n",
       "      <th>COMMERCIAL UNITS</th>\n",
       "      <th>TOTAL UNITS</th>\n",
       "      <th>LAND SQUARE FEET</th>\n",
       "      <th>GROSS SQUARE FEET</th>\n",
       "      <th>YEAR BUILT</th>\n",
       "      <th>TAX CLASS AT TIME OF SALE</th>\n",
       "      <th>BUILDING CLASS AT TIME OF SALE</th>\n",
       "      <th>SALE PRICE</th>\n",
       "      <th>SALE DATE</th>\n",
       "    </tr>\n",
       "  </thead>\n",
       "  <tbody>\n",
       "    <tr>\n",
       "      <th>0</th>\n",
       "      <td>4</td>\n",
       "      <td>1</td>\n",
       "      <td>ALPHABET CITY</td>\n",
       "      <td>07 RENTALS - WALKUP APARTMENTS</td>\n",
       "      <td>2A</td>\n",
       "      <td>392</td>\n",
       "      <td>6</td>\n",
       "      <td></td>\n",
       "      <td>C2</td>\n",
       "      <td>153 AVENUE B</td>\n",
       "      <td>...</td>\n",
       "      <td>5</td>\n",
       "      <td>0</td>\n",
       "      <td>5</td>\n",
       "      <td>1633</td>\n",
       "      <td>6440</td>\n",
       "      <td>1900</td>\n",
       "      <td>2</td>\n",
       "      <td>C2</td>\n",
       "      <td>6625000</td>\n",
       "      <td>2017-07-19 00:00:00</td>\n",
       "    </tr>\n",
       "    <tr>\n",
       "      <th>1</th>\n",
       "      <td>5</td>\n",
       "      <td>1</td>\n",
       "      <td>ALPHABET CITY</td>\n",
       "      <td>07 RENTALS - WALKUP APARTMENTS</td>\n",
       "      <td>2</td>\n",
       "      <td>399</td>\n",
       "      <td>26</td>\n",
       "      <td></td>\n",
       "      <td>C7</td>\n",
       "      <td>234 EAST 4TH   STREET</td>\n",
       "      <td>...</td>\n",
       "      <td>28</td>\n",
       "      <td>3</td>\n",
       "      <td>31</td>\n",
       "      <td>4616</td>\n",
       "      <td>18690</td>\n",
       "      <td>1900</td>\n",
       "      <td>2</td>\n",
       "      <td>C7</td>\n",
       "      <td>-</td>\n",
       "      <td>2016-12-14 00:00:00</td>\n",
       "    </tr>\n",
       "    <tr>\n",
       "      <th>2</th>\n",
       "      <td>6</td>\n",
       "      <td>1</td>\n",
       "      <td>ALPHABET CITY</td>\n",
       "      <td>07 RENTALS - WALKUP APARTMENTS</td>\n",
       "      <td>2</td>\n",
       "      <td>399</td>\n",
       "      <td>39</td>\n",
       "      <td></td>\n",
       "      <td>C7</td>\n",
       "      <td>197 EAST 3RD   STREET</td>\n",
       "      <td>...</td>\n",
       "      <td>16</td>\n",
       "      <td>1</td>\n",
       "      <td>17</td>\n",
       "      <td>2212</td>\n",
       "      <td>7803</td>\n",
       "      <td>1900</td>\n",
       "      <td>2</td>\n",
       "      <td>C7</td>\n",
       "      <td>-</td>\n",
       "      <td>2016-12-09 00:00:00</td>\n",
       "    </tr>\n",
       "    <tr>\n",
       "      <th>3</th>\n",
       "      <td>7</td>\n",
       "      <td>1</td>\n",
       "      <td>ALPHABET CITY</td>\n",
       "      <td>07 RENTALS - WALKUP APARTMENTS</td>\n",
       "      <td>2B</td>\n",
       "      <td>402</td>\n",
       "      <td>21</td>\n",
       "      <td></td>\n",
       "      <td>C4</td>\n",
       "      <td>154 EAST 7TH STREET</td>\n",
       "      <td>...</td>\n",
       "      <td>10</td>\n",
       "      <td>0</td>\n",
       "      <td>10</td>\n",
       "      <td>2272</td>\n",
       "      <td>6794</td>\n",
       "      <td>1913</td>\n",
       "      <td>2</td>\n",
       "      <td>C4</td>\n",
       "      <td>3936272</td>\n",
       "      <td>2016-09-23 00:00:00</td>\n",
       "    </tr>\n",
       "    <tr>\n",
       "      <th>4</th>\n",
       "      <td>8</td>\n",
       "      <td>1</td>\n",
       "      <td>ALPHABET CITY</td>\n",
       "      <td>07 RENTALS - WALKUP APARTMENTS</td>\n",
       "      <td>2A</td>\n",
       "      <td>404</td>\n",
       "      <td>55</td>\n",
       "      <td></td>\n",
       "      <td>C2</td>\n",
       "      <td>301 EAST 10TH   STREET</td>\n",
       "      <td>...</td>\n",
       "      <td>6</td>\n",
       "      <td>0</td>\n",
       "      <td>6</td>\n",
       "      <td>2369</td>\n",
       "      <td>4615</td>\n",
       "      <td>1900</td>\n",
       "      <td>2</td>\n",
       "      <td>C2</td>\n",
       "      <td>8000000</td>\n",
       "      <td>2016-11-17 00:00:00</td>\n",
       "    </tr>\n",
       "  </tbody>\n",
       "</table>\n",
       "<p>5 rows × 22 columns</p>\n",
       "</div>"
      ],
      "text/plain": [
       "   Unnamed: 0  BOROUGH   NEIGHBORHOOD  \\\n",
       "0           4        1  ALPHABET CITY   \n",
       "1           5        1  ALPHABET CITY   \n",
       "2           6        1  ALPHABET CITY   \n",
       "3           7        1  ALPHABET CITY   \n",
       "4           8        1  ALPHABET CITY   \n",
       "\n",
       "                       BUILDING CLASS CATEGORY TAX CLASS AT PRESENT  BLOCK  \\\n",
       "0  07 RENTALS - WALKUP APARTMENTS                                2A    392   \n",
       "1  07 RENTALS - WALKUP APARTMENTS                                 2    399   \n",
       "2  07 RENTALS - WALKUP APARTMENTS                                 2    399   \n",
       "3  07 RENTALS - WALKUP APARTMENTS                                2B    402   \n",
       "4  07 RENTALS - WALKUP APARTMENTS                                2A    404   \n",
       "\n",
       "   LOT EASE-MENT BUILDING CLASS AT PRESENT                 ADDRESS  ...  \\\n",
       "0    6                                  C2            153 AVENUE B  ...   \n",
       "1   26                                  C7   234 EAST 4TH   STREET  ...   \n",
       "2   39                                  C7   197 EAST 3RD   STREET  ...   \n",
       "3   21                                  C4     154 EAST 7TH STREET  ...   \n",
       "4   55                                  C2  301 EAST 10TH   STREET  ...   \n",
       "\n",
       "  RESIDENTIAL UNITS  COMMERCIAL UNITS  TOTAL UNITS  LAND SQUARE FEET  \\\n",
       "0                 5                 0            5              1633   \n",
       "1                28                 3           31              4616   \n",
       "2                16                 1           17              2212   \n",
       "3                10                 0           10              2272   \n",
       "4                 6                 0            6              2369   \n",
       "\n",
       "   GROSS SQUARE FEET YEAR BUILT TAX CLASS AT TIME OF SALE  \\\n",
       "0               6440       1900                         2   \n",
       "1              18690       1900                         2   \n",
       "2               7803       1900                         2   \n",
       "3               6794       1913                         2   \n",
       "4               4615       1900                         2   \n",
       "\n",
       "   BUILDING CLASS AT TIME OF SALE  SALE PRICE            SALE DATE  \n",
       "0                              C2     6625000  2017-07-19 00:00:00  \n",
       "1                              C7         -    2016-12-14 00:00:00  \n",
       "2                              C7         -    2016-12-09 00:00:00  \n",
       "3                              C4     3936272  2016-09-23 00:00:00  \n",
       "4                              C2     8000000  2016-11-17 00:00:00  \n",
       "\n",
       "[5 rows x 22 columns]"
      ]
     },
     "execution_count": 75,
     "metadata": {},
     "output_type": "execute_result"
    }
   ],
   "source": [
    "\n",
    "df = pd.read_csv('nyc-rolling-sales.csv')\n",
    "df.head()\n",
    "\n"
   ]
  },
  {
   "cell_type": "markdown",
   "id": "406aec8d",
   "metadata": {},
   "source": [
    "# Measure of Central Tendency: Mean"
   ]
  },
  {
   "cell_type": "markdown",
   "id": "6ba352aa",
   "metadata": {},
   "source": [
    "Mengimport library pandas"
   ]
  },
  {
   "cell_type": "code",
   "execution_count": 76,
   "id": "7bb23f1e",
   "metadata": {},
   "outputs": [],
   "source": [
    "import pandas as pd"
   ]
  },
  {
   "cell_type": "markdown",
   "id": "f708d50e",
   "metadata": {},
   "source": [
    "Load Data"
   ]
  },
  {
   "cell_type": "code",
   "execution_count": 77,
   "id": "aafda5d6",
   "metadata": {},
   "outputs": [],
   "source": [
    "df = pd.read_csv(\"nyc-rolling-sales.csv\")"
   ]
  },
  {
   "cell_type": "markdown",
   "id": "494ec9e7",
   "metadata": {},
   "source": [
    "Membersihkan kolom SALE PRICE dari karakter selain angka dan mengonversi ke tipe numerik"
   ]
  },
  {
   "cell_type": "code",
   "execution_count": 78,
   "id": "910a00da",
   "metadata": {},
   "outputs": [],
   "source": [
    "df['SALE PRICE'] = pd.to_numeric(df['SALE PRICE'].astype(str).str.replace('[^0-9]', '', regex=False), errors='coerce')"
   ]
  },
  {
   "cell_type": "markdown",
   "id": "4b229105",
   "metadata": {},
   "source": [
    "Menghitung nilai rata-rata pada kolom SALE PRICE"
   ]
  },
  {
   "cell_type": "code",
   "execution_count": 79,
   "id": "03d0056f",
   "metadata": {},
   "outputs": [
    {
     "name": "stdout",
     "output_type": "stream",
     "text": [
      "Mean SALE PRICE:  1276456.4977638705\n"
     ]
    }
   ],
   "source": [
    "mean_sale_price = df['SALE PRICE'].mean()\n",
    "\n",
    "print(\"Mean SALE PRICE: \", mean_sale_price)"
   ]
  },
  {
   "cell_type": "markdown",
   "id": "e4565c21",
   "metadata": {},
   "source": [
    "# Measure of Central Tendency: Median"
   ]
  },
  {
   "cell_type": "markdown",
   "id": "1692e624",
   "metadata": {},
   "source": [
    "Mengimport library pandas"
   ]
  },
  {
   "cell_type": "code",
   "execution_count": 80,
   "id": "4fcd2cda",
   "metadata": {},
   "outputs": [],
   "source": [
    "import pandas as pd\n"
   ]
  },
  {
   "cell_type": "markdown",
   "id": "4e6199cc",
   "metadata": {},
   "source": [
    "load dataset"
   ]
  },
  {
   "cell_type": "code",
   "execution_count": 81,
   "id": "5283a8f0",
   "metadata": {},
   "outputs": [],
   "source": [
    "df = pd.read_csv('nyc-rolling-sales.csv')\n"
   ]
  },
  {
   "cell_type": "markdown",
   "id": "4f69b40e",
   "metadata": {},
   "source": [
    "convert SALE PRICE column to numeric"
   ]
  },
  {
   "cell_type": "code",
   "execution_count": 82,
   "id": "b41d1693",
   "metadata": {},
   "outputs": [],
   "source": [
    "df['SALE PRICE'] = pd.to_numeric(df['SALE PRICE'].astype(str).str.replace('[^0-9]', '', regex=True), errors='coerce')"
   ]
  },
  {
   "cell_type": "markdown",
   "id": "0e9d8f8b",
   "metadata": {},
   "source": [
    "calculate median SALE PRICE"
   ]
  },
  {
   "cell_type": "code",
   "execution_count": 83,
   "id": "498e39e3",
   "metadata": {},
   "outputs": [
    {
     "name": "stdout",
     "output_type": "stream",
     "text": [
      "Median SALE PRICE: 530000.0\n"
     ]
    }
   ],
   "source": [
    "median_price = df['SALE PRICE'].median()\n",
    "print('Median SALE PRICE:', median_price)"
   ]
  },
  {
   "cell_type": "markdown",
   "id": "3f73c927",
   "metadata": {},
   "source": [
    "# Measure of Central Tendency: Modus"
   ]
  },
  {
   "cell_type": "markdown",
   "id": "4b6601b5",
   "metadata": {},
   "source": [
    "Mengimport library pandas"
   ]
  },
  {
   "cell_type": "code",
   "execution_count": 84,
   "id": "f98cb927",
   "metadata": {},
   "outputs": [],
   "source": [
    "import pandas as pd"
   ]
  },
  {
   "cell_type": "markdown",
   "id": "baa8592a",
   "metadata": {},
   "source": [
    "membaca file csv dan menyimpannya dalam datafram"
   ]
  },
  {
   "cell_type": "code",
   "execution_count": 85,
   "id": "bd2377bf",
   "metadata": {},
   "outputs": [],
   "source": [
    "df = pd.read_csv('nyc-rolling-sales.csv')\n"
   ]
  },
  {
   "cell_type": "markdown",
   "id": "a745a9ea",
   "metadata": {},
   "source": [
    "menghapus data yang bernilai null"
   ]
  },
  {
   "cell_type": "code",
   "execution_count": 86,
   "id": "f80f9239",
   "metadata": {},
   "outputs": [],
   "source": [
    "df = df.dropna()"
   ]
  },
  {
   "cell_type": "markdown",
   "id": "07c7b20d",
   "metadata": {},
   "source": [
    " mengubah tipe data kolom 'SALE PRICE' menjadi numerik"
   ]
  },
  {
   "cell_type": "code",
   "execution_count": 87,
   "id": "820c26d3",
   "metadata": {},
   "outputs": [],
   "source": [
    "df['SALE PRICE'] = pd.to_numeric(df['SALE PRICE'].astype(str).str.replace('[^0-9]', '', regex=False), errors='coerce')"
   ]
  },
  {
   "cell_type": "markdown",
   "id": "cd38352e",
   "metadata": {},
   "source": [
    "menghitung modus dari kolom 'SALE PRICE'"
   ]
  },
  {
   "cell_type": "code",
   "execution_count": 88,
   "id": "bc59e4d3",
   "metadata": {},
   "outputs": [
    {
     "name": "stdout",
     "output_type": "stream",
     "text": [
      "Modus SALE PRICE:  0    0.0\n",
      "Name: SALE PRICE, dtype: float64\n"
     ]
    }
   ],
   "source": [
    "modus = df['SALE PRICE'].mode()\n",
    "\n",
    "print(\"Modus SALE PRICE: \", modus)"
   ]
  },
  {
   "cell_type": "markdown",
   "id": "7f5f5534",
   "metadata": {},
   "source": [
    "# Measure of spread: range"
   ]
  },
  {
   "cell_type": "markdown",
   "id": "4735fe0e",
   "metadata": {},
   "source": [
    "Mengimport library pandas"
   ]
  },
  {
   "cell_type": "code",
   "execution_count": 89,
   "id": "23b444a1",
   "metadata": {},
   "outputs": [],
   "source": [
    "import pandas as pd\n"
   ]
  },
  {
   "cell_type": "markdown",
   "id": "c58cf673",
   "metadata": {},
   "source": [
    "Load data"
   ]
  },
  {
   "cell_type": "code",
   "execution_count": 91,
   "id": "231ae034",
   "metadata": {},
   "outputs": [],
   "source": [
    "df = pd.read_csv('nyc-rolling-sales.csv')\n"
   ]
  },
  {
   "cell_type": "markdown",
   "id": "162fc70e",
   "metadata": {},
   "source": [
    "Menghapus data yang kosong"
   ]
  },
  {
   "cell_type": "code",
   "execution_count": 92,
   "id": "3b530bdc",
   "metadata": {},
   "outputs": [],
   "source": [
    "df.dropna(inplace=True)"
   ]
  },
  {
   "cell_type": "markdown",
   "id": "38dfbfb7",
   "metadata": {},
   "source": [
    "Mengubah tipe data SALE PRICE menjadi numerik"
   ]
  },
  {
   "cell_type": "code",
   "execution_count": 93,
   "id": "77689103",
   "metadata": {},
   "outputs": [],
   "source": [
    "df['SALE PRICE'] = pd.to_numeric(df['SALE PRICE'].astype(str).str.replace('[^0-9]', '', regex=False), errors='coerce')\n"
   ]
  },
  {
   "cell_type": "markdown",
   "id": "b95f4f03",
   "metadata": {},
   "source": [
    "Menghitung range"
   ]
  },
  {
   "cell_type": "code",
   "execution_count": 94,
   "id": "fb644a75",
   "metadata": {},
   "outputs": [
    {
     "name": "stdout",
     "output_type": "stream",
     "text": [
      "Range:  2210000000.0\n"
     ]
    }
   ],
   "source": [
    "data_range = df['SALE PRICE'].max() - df['SALE PRICE'].min()\n",
    "print(\"Range: \", data_range)"
   ]
  },
  {
   "cell_type": "code",
   "execution_count": 22,
   "id": "da0ce9d7",
   "metadata": {},
   "outputs": [
    {
     "name": "stdout",
     "output_type": "stream",
     "text": [
      "Range:  2210000000.0\n"
     ]
    }
   ],
   "source": [
    "import pandas as pd\n",
    "\n",
    "# Load data\n",
    "df = pd.read_csv('nyc-rolling-sales.csv')\n",
    "\n",
    "# Menghapus data yang kosong\n",
    "df.dropna(inplace=True)\n",
    "\n",
    "# Mengubah tipe data SALE PRICE menjadi numerik\n",
    "df['SALE PRICE'] = pd.to_numeric(df['SALE PRICE'].astype(str).str.replace('[^0-9]', '', regex=False), errors='coerce')\n",
    "\n",
    "\n",
    "# Menghitung range\n",
    "data_range = df['SALE PRICE'].max() - df['SALE PRICE'].min()\n",
    "print(\"Range: \", data_range)"
   ]
  },
  {
   "cell_type": "markdown",
   "id": "57134690",
   "metadata": {},
   "source": [
    "# Measure of spread: Variance"
   ]
  },
  {
   "cell_type": "markdown",
   "id": "cf18ff17",
   "metadata": {},
   "source": [
    "Mengimport library pandas dan numpy"
   ]
  },
  {
   "cell_type": "code",
   "execution_count": 24,
   "id": "c3d4d382",
   "metadata": {},
   "outputs": [],
   "source": [
    "import pandas as pd\n",
    "import numpy as np"
   ]
  },
  {
   "cell_type": "markdown",
   "id": "64b369cf",
   "metadata": {},
   "source": [
    "membaca dataset dan memfilter hanya pada transaksi dengan SALE PRICE > 0"
   ]
  },
  {
   "cell_type": "code",
   "execution_count": 25,
   "id": "126baf36",
   "metadata": {},
   "outputs": [],
   "source": [
    "df['SALE PRICE'] = pd.to_numeric(df['SALE PRICE'].astype(str).str.replace('[^0-9]', '', regex=False), errors='coerce')\n",
    "df = df[df['SALE PRICE'] > 0]\n"
   ]
  },
  {
   "cell_type": "markdown",
   "id": "7ae34686",
   "metadata": {},
   "source": [
    " menghapus missing value"
   ]
  },
  {
   "cell_type": "code",
   "execution_count": 26,
   "id": "c56f9c89",
   "metadata": {},
   "outputs": [],
   "source": [
    "df.dropna(subset=['SALE PRICE'], inplace=True)"
   ]
  },
  {
   "cell_type": "markdown",
   "id": "4e90c82a",
   "metadata": {},
   "source": [
    "menghitung rata-rata"
   ]
  },
  {
   "cell_type": "code",
   "execution_count": 27,
   "id": "5a721d63",
   "metadata": {},
   "outputs": [],
   "source": [
    "mean = np.mean(df['SALE PRICE'])\n"
   ]
  },
  {
   "cell_type": "markdown",
   "id": "82f1ee2b",
   "metadata": {},
   "source": [
    "menghitung variansi"
   ]
  },
  {
   "cell_type": "code",
   "execution_count": 28,
   "id": "be680062",
   "metadata": {},
   "outputs": [
    {
     "name": "stdout",
     "output_type": "stream",
     "text": [
      "Variansi SALE PRICE pada dataset NYC Rolling Sales:  152014779013418.53\n"
     ]
    }
   ],
   "source": [
    "variance = np.var(df['SALE PRICE'])\n",
    "\n",
    "print('Variansi SALE PRICE pada dataset NYC Rolling Sales: ', variance)"
   ]
  },
  {
   "cell_type": "code",
   "execution_count": 28,
   "id": "1d853b85",
   "metadata": {},
   "outputs": [
    {
     "name": "stdout",
     "output_type": "stream",
     "text": [
      "Variansi SALE PRICE pada dataset NYC Rolling Sales:  152014779013418.53\n"
     ]
    }
   ],
   "source": [
    "import pandas as pd\n",
    "import numpy as np\n",
    "\n",
    "# membaca dataset dan memfilter hanya pada transaksi dengan SALE PRICE > 0\n",
    "df = pd.read_csv('nyc-rolling-sales.csv')\n",
    "df['SALE PRICE'] = pd.to_numeric(df['SALE PRICE'].astype(str).str.replace('[^0-9]', '', regex=False), errors='coerce')\n",
    "df = df[df['SALE PRICE'] > 0]\n",
    "\n",
    "# menghapus missing value\n",
    "df.dropna(subset=['SALE PRICE'], inplace=True)\n",
    "\n",
    "# menghitung rata-rata\n",
    "mean = np.mean(df['SALE PRICE'])\n",
    "\n",
    "# menghitung variansi\n",
    "variance = np.var(df['SALE PRICE'])\n",
    "\n",
    "print('Variansi SALE PRICE pada dataset NYC Rolling Sales: ', variance)"
   ]
  },
  {
   "cell_type": "markdown",
   "id": "3b35f46d",
   "metadata": {},
   "source": [
    "# Measure of spread: Standard Deviation"
   ]
  },
  {
   "cell_type": "markdown",
   "id": "abeaf18e",
   "metadata": {},
   "source": [
    "Mengimport library pandas"
   ]
  },
  {
   "cell_type": "code",
   "execution_count": 29,
   "id": "accd5994",
   "metadata": {},
   "outputs": [],
   "source": [
    "import pandas as pd"
   ]
  },
  {
   "cell_type": "markdown",
   "id": "999c24a3",
   "metadata": {},
   "source": [
    "membaca dataset dan menghapus missing value"
   ]
  },
  {
   "cell_type": "code",
   "execution_count": 30,
   "id": "92577619",
   "metadata": {},
   "outputs": [],
   "source": [
    "df = pd.read_csv('nyc-rolling-sales.csv').dropna()"
   ]
  },
  {
   "cell_type": "markdown",
   "id": "6592ecbc",
   "metadata": {},
   "source": [
    "konversi tipe data kolom SALE PRICE menjadi numerik"
   ]
  },
  {
   "cell_type": "code",
   "execution_count": 31,
   "id": "1d7ba5dd",
   "metadata": {},
   "outputs": [],
   "source": [
    "df['SALE PRICE'] = pd.to_numeric(df['SALE PRICE'], errors='coerce')"
   ]
  },
  {
   "cell_type": "markdown",
   "id": "4fa3ad53",
   "metadata": {},
   "source": [
    "filtering pada transaksi dengan SALE PRICE > 0"
   ]
  },
  {
   "cell_type": "code",
   "execution_count": 32,
   "id": "e25c6a2b",
   "metadata": {},
   "outputs": [],
   "source": [
    "df = df[df['SALE PRICE'] > 0]"
   ]
  },
  {
   "cell_type": "markdown",
   "id": "dd66b845",
   "metadata": {},
   "source": [
    "menghitung standard deviation"
   ]
  },
  {
   "cell_type": "code",
   "execution_count": 33,
   "id": "18526aae",
   "metadata": {},
   "outputs": [
    {
     "name": "stdout",
     "output_type": "stream",
     "text": [
      "Standard deviation pada dataset NYC Rolling Sales:  12329530.520389762\n"
     ]
    }
   ],
   "source": [
    "std_dev = df['SALE PRICE'].std()\n",
    "\n",
    "print('Standard deviation pada dataset NYC Rolling Sales: ', std_dev)"
   ]
  },
  {
   "cell_type": "code",
   "execution_count": 30,
   "id": "cbb32ecf",
   "metadata": {},
   "outputs": [
    {
     "name": "stdout",
     "output_type": "stream",
     "text": [
      "Standard deviation pada dataset NYC Rolling Sales:  12329530.520389762\n"
     ]
    }
   ],
   "source": [
    "import pandas as pd\n",
    "\n",
    "# membaca dataset dan menghapus missing value\n",
    "df = pd.read_csv('nyc-rolling-sales.csv').dropna()\n",
    "\n",
    "# konversi tipe data kolom SALE PRICE menjadi numerik\n",
    "df['SALE PRICE'] = pd.to_numeric(df['SALE PRICE'], errors='coerce')\n",
    "\n",
    "# filtering pada transaksi dengan SALE PRICE > 0\n",
    "df = df[df['SALE PRICE'] > 0]\n",
    "\n",
    "# menghitung standard deviation\n",
    "std_dev = df['SALE PRICE'].std()\n",
    "\n",
    "print('Standard deviation pada dataset NYC Rolling Sales: ', std_dev)"
   ]
  },
  {
   "cell_type": "markdown",
   "id": "b4b0361e",
   "metadata": {},
   "source": [
    "# Membuat Histogram Probability Distribution of NYC rolling sales"
   ]
  },
  {
   "cell_type": "markdown",
   "id": "59490044",
   "metadata": {},
   "source": [
    "Mengimport library pandas, seaborn dan matplotlib"
   ]
  },
  {
   "cell_type": "code",
   "execution_count": 52,
   "id": "21c5c71a",
   "metadata": {},
   "outputs": [],
   "source": [
    "import pandas as pd\n",
    "import matplotlib.pyplot as plt\n",
    "import seaborn as sns"
   ]
  },
  {
   "cell_type": "markdown",
   "id": "3430207f",
   "metadata": {},
   "source": [
    " membaca dataset dan memfilter hanya pada transaksi dengan SALE PRICE > 0"
   ]
  },
  {
   "cell_type": "code",
   "execution_count": 53,
   "id": "fa0a0cfe",
   "metadata": {},
   "outputs": [],
   "source": [
    "df = pd.read_csv('nyc-rolling-sales.csv')"
   ]
  },
  {
   "cell_type": "markdown",
   "id": "e79a1ed6",
   "metadata": {},
   "source": [
    "convert to numeric type"
   ]
  },
  {
   "cell_type": "code",
   "execution_count": 54,
   "id": "f5098464",
   "metadata": {},
   "outputs": [],
   "source": [
    "df['SALE PRICE'] = pd.to_numeric(df['SALE PRICE'], errors='coerce')"
   ]
  },
  {
   "cell_type": "markdown",
   "id": "edd9c7a3",
   "metadata": {},
   "source": [
    "drop missing values\n"
   ]
  },
  {
   "cell_type": "code",
   "execution_count": 55,
   "id": "361075b6",
   "metadata": {},
   "outputs": [],
   "source": [
    "df = df.dropna(subset=['SALE PRICE'])"
   ]
  },
  {
   "cell_type": "markdown",
   "id": "1173742b",
   "metadata": {},
   "source": [
    "membuat histogram"
   ]
  },
  {
   "cell_type": "code",
   "execution_count": 56,
   "id": "beb0a2fd",
   "metadata": {},
   "outputs": [
    {
     "data": {
      "image/png": "[encoded data removed]",
      "text/plain": [
       "<Figure size 640x480 with 1 Axes>"
      ]
     },
     "metadata": {},
     "output_type": "display_data"
    }
   ],
   "source": [
    "plt.hist(df['SALE PRICE'], bins=100, density=True)\n",
    "plt.xlabel('Sale Price')\n",
    "plt.ylabel('Probability Density')\n",
    "plt.title('Probability Distribution of NYC Rolling Sales')\n",
    "plt.show()"
   ]
  },
  {
   "cell_type": "markdown",
   "id": "af6376da",
   "metadata": {},
   "source": [
    "menghitung nilai rata-rata, median, dan standar deviasi"
   ]
  },
  {
   "cell_type": "code",
   "execution_count": 32,
   "id": "0f6d8903",
   "metadata": {},
   "outputs": [
    {
     "data": {
      "image/png": "[encoded data removed]",
      "text/plain": [
       "<Figure size 640x480 with 1 Axes>"
      ]
     },
     "metadata": {},
     "output_type": "display_data"
    }
   ],
   "source": [
    "import pandas as pd\n",
    "import matplotlib.pyplot as plt\n",
    "\n",
    "# membaca dataset dan memfilter hanya pada transaksi dengan SALE PRICE > 0\n",
    "df = pd.read_csv('nyc-rolling-sales.csv')\n",
    "df['SALE PRICE'] = pd.to_numeric(df['SALE PRICE'], errors='coerce') # convert to numeric type\n",
    "df = df.dropna(subset=['SALE PRICE']) # drop missing values\n",
    "\n",
    "# membuat histogram\n",
    "plt.hist(df['SALE PRICE'], bins=100, density=True)\n",
    "plt.xlabel('Sale Price')\n",
    "plt.ylabel('Probability Density')\n",
    "plt.title('Probability Distribution of NYC Rolling Sales')\n",
    "plt.show()\n"
   ]
  },
  {
   "cell_type": "code",
   "execution_count": 57,
   "id": "e0a93945",
   "metadata": {},
   "outputs": [
    {
     "data": {
      "text/plain": [
       "11405255.345990326"
      ]
     },
     "execution_count": 57,
     "metadata": {},
     "output_type": "execute_result"
    }
   ],
   "source": [
    "mean = df['SALE PRICE'].mean()\n",
    "median = df['SALE PRICE'].median()\n",
    "std = df['SALE PRICE'].std()\n",
    "std"
   ]
  },
  {
   "cell_type": "markdown",
   "id": "22d209f8",
   "metadata": {},
   "source": [
    "menampilkan distribusi SALE PRICE dalam bentuk histogram"
   ]
  },
  {
   "cell_type": "code",
   "execution_count": 58,
   "id": "41921b1e",
   "metadata": {},
   "outputs": [
    {
     "data": {
      "image/png": "[encoded data removed]",
      "text/plain": [
       "<Figure size 1000x600 with 1 Axes>"
      ]
     },
     "metadata": {},
     "output_type": "display_data"
    }
   ],
   "source": [
    "plt.figure(figsize=(10,6))\n",
    "sns.histplot(data=df, x='SALE PRICE', bins=100)\n",
    "plt.axvline(mean, color='r', linestyle='--', label='Mean')\n",
    "plt.axvline(median, color='g', linestyle='-.', label='Median')\n",
    "plt.title('Histogram of SALE PRICE')\n",
    "plt.xlabel('SALE PRICE')\n",
    "plt.ylabel('Frequency')\n",
    "plt.legend()\n",
    "plt.show()"
   ]
  },
  {
   "cell_type": "code",
   "execution_count": 36,
   "id": "333831c3",
   "metadata": {},
   "outputs": [
    {
     "name": "stdout",
     "output_type": "stream",
     "text": [
      "Mean:  1276456.4977638705\n",
      "Median:  530000.0\n",
      "Standard Deviation:  11405255.345990326\n"
     ]
    }
   ],
   "source": [
    "print('Mean: ', mean)\n",
    "print('Median: ', median)\n",
    "print('Standard Deviation: ', std)"
   ]
  },
  {
   "cell_type": "markdown",
   "id": "26c43d63",
   "metadata": {},
   "source": [
    "# Menghitung Confidence Intervals"
   ]
  },
  {
   "cell_type": "markdown",
   "id": "cacc8e18",
   "metadata": {},
   "source": [
    "Mengimport library pandas, numpy, dan scipy"
   ]
  },
  {
   "cell_type": "code",
   "execution_count": 59,
   "id": "7cf1eed8",
   "metadata": {},
   "outputs": [],
   "source": [
    "import pandas as pd\n",
    "import numpy as np\n",
    "from scipy.stats import norm\n",
    "\n",
    "import pandas as pd"
   ]
  },
  {
   "cell_type": "markdown",
   "id": "7cc384a1",
   "metadata": {},
   "source": [
    "membaca dataset dan mengubah 'SALE PRICE' ke float"
   ]
  },
  {
   "cell_type": "code",
   "execution_count": 60,
   "id": "7d9f9cbe",
   "metadata": {},
   "outputs": [],
   "source": [
    "df = pd.read_csv('nyc-rolling-sales.csv')\n",
    "df['SALE PRICE'] = pd.to_numeric(df['SALE PRICE'], errors='coerce')\n"
   ]
  },
  {
   "cell_type": "markdown",
   "id": "712e2094",
   "metadata": {},
   "source": [
    " mengisi missing values dengan mean dari 'SALE PRICE'"
   ]
  },
  {
   "cell_type": "code",
   "execution_count": 61,
   "id": "b1983b54",
   "metadata": {},
   "outputs": [],
   "source": [
    "df['SALE PRICE'].fillna(df['SALE PRICE'].mean(), inplace=True)"
   ]
  },
  {
   "cell_type": "markdown",
   "id": "53d29cfd",
   "metadata": {},
   "source": [
    " memfilter hanya pada transaksi dengan SALE PRICE > 0"
   ]
  },
  {
   "cell_type": "code",
   "execution_count": 62,
   "id": "84754022",
   "metadata": {},
   "outputs": [],
   "source": [
    "df = df[df['SALE PRICE'] > 0]\n"
   ]
  },
  {
   "cell_type": "markdown",
   "id": "22abbde2",
   "metadata": {},
   "source": [
    "menampilkan lima baris teratas"
   ]
  },
  {
   "cell_type": "code",
   "execution_count": 63,
   "id": "dada7791",
   "metadata": {},
   "outputs": [
    {
     "name": "stdout",
     "output_type": "stream",
     "text": [
      "   Unnamed: 0  BOROUGH   NEIGHBORHOOD  \\\n",
      "0           4        1  ALPHABET CITY   \n",
      "1           5        1  ALPHABET CITY   \n",
      "2           6        1  ALPHABET CITY   \n",
      "3           7        1  ALPHABET CITY   \n",
      "4           8        1  ALPHABET CITY   \n",
      "\n",
      "                       BUILDING CLASS CATEGORY TAX CLASS AT PRESENT  BLOCK  \\\n",
      "0  07 RENTALS - WALKUP APARTMENTS                                2A    392   \n",
      "1  07 RENTALS - WALKUP APARTMENTS                                 2    399   \n",
      "2  07 RENTALS - WALKUP APARTMENTS                                 2    399   \n",
      "3  07 RENTALS - WALKUP APARTMENTS                                2B    402   \n",
      "4  07 RENTALS - WALKUP APARTMENTS                                2A    404   \n",
      "\n",
      "   LOT EASE-MENT BUILDING CLASS AT PRESENT                 ADDRESS  ...  \\\n",
      "0    6                                  C2            153 AVENUE B  ...   \n",
      "1   26                                  C7   234 EAST 4TH   STREET  ...   \n",
      "2   39                                  C7   197 EAST 3RD   STREET  ...   \n",
      "3   21                                  C4     154 EAST 7TH STREET  ...   \n",
      "4   55                                  C2  301 EAST 10TH   STREET  ...   \n",
      "\n",
      "  RESIDENTIAL UNITS  COMMERCIAL UNITS  TOTAL UNITS  LAND SQUARE FEET  \\\n",
      "0                 5                 0            5              1633   \n",
      "1                28                 3           31              4616   \n",
      "2                16                 1           17              2212   \n",
      "3                10                 0           10              2272   \n",
      "4                 6                 0            6              2369   \n",
      "\n",
      "   GROSS SQUARE FEET YEAR BUILT TAX CLASS AT TIME OF SALE  \\\n",
      "0               6440       1900                         2   \n",
      "1              18690       1900                         2   \n",
      "2               7803       1900                         2   \n",
      "3               6794       1913                         2   \n",
      "4               4615       1900                         2   \n",
      "\n",
      "   BUILDING CLASS AT TIME OF SALE    SALE PRICE            SALE DATE  \n",
      "0                              C2  6.625000e+06  2017-07-19 00:00:00  \n",
      "1                              C7  1.276456e+06  2016-12-14 00:00:00  \n",
      "2                              C7  1.276456e+06  2016-12-09 00:00:00  \n",
      "3                              C4  3.936272e+06  2016-09-23 00:00:00  \n",
      "4                              C2  8.000000e+06  2016-11-17 00:00:00  \n",
      "\n",
      "[5 rows x 22 columns]\n"
     ]
    }
   ],
   "source": [
    "print(df.head())"
   ]
  },
  {
   "cell_type": "markdown",
   "id": "7827df18",
   "metadata": {},
   "source": [
    "memfilter hanya pada transaksi dengan SALE PRICE > 0"
   ]
  },
  {
   "cell_type": "code",
   "execution_count": 64,
   "id": "c823d3f9",
   "metadata": {},
   "outputs": [],
   "source": [
    "df = df[df['SALE PRICE'] > 0]"
   ]
  },
  {
   "cell_type": "markdown",
   "id": "33259223",
   "metadata": {},
   "source": [
    "menghitung rata-rata dan standar deviasi dari SALE PRICE"
   ]
  },
  {
   "cell_type": "code",
   "execution_count": 65,
   "id": "2f3ffd35",
   "metadata": {},
   "outputs": [],
   "source": [
    "mean_price = df['SALE PRICE'].mean()\n",
    "std_price = df['SALE PRICE'].std()"
   ]
  },
  {
   "cell_type": "markdown",
   "id": "4d844c0e",
   "metadata": {},
   "source": [
    " menghitung confidence interval"
   ]
  },
  {
   "cell_type": "code",
   "execution_count": 66,
   "id": "40c8558a",
   "metadata": {},
   "outputs": [
    {
     "name": "stdout",
     "output_type": "stream",
     "text": [
      "95% confidence interval: [1372634.08, 1531613.61]\n"
     ]
    }
   ],
   "source": [
    "z_score = 1.96  # z-score untuk confidence level 95%\n",
    "n = len(df)\n",
    "margin_of_error = z_score * (std_price / np.sqrt(n))\n",
    "lower_bound = mean_price - margin_of_error\n",
    "upper_bound = mean_price + margin_of_error\n",
    "\n",
    "print(f\"95% confidence interval: [{lower_bound:.2f}, {upper_bound:.2f}]\")\n"
   ]
  },
  {
   "cell_type": "markdown",
   "id": "f3cb1857",
   "metadata": {},
   "source": [
    "# Hypothesis Testing"
   ]
  },
  {
   "cell_type": "markdown",
   "id": "63b28210",
   "metadata": {},
   "source": [
    "Mengimport Library Pandas dan Scipy.stats"
   ]
  },
  {
   "cell_type": "code",
   "execution_count": 67,
   "id": "150c5498",
   "metadata": {},
   "outputs": [],
   "source": [
    "import pandas as pd\n",
    "from scipy.stats import ttest_ind"
   ]
  },
  {
   "cell_type": "markdown",
   "id": "ae1b15d7",
   "metadata": {},
   "source": [
    "membaca dataset dan mengubah 'SALE PRICE' ke integer"
   ]
  },
  {
   "cell_type": "code",
   "execution_count": 68,
   "id": "7c4329b8",
   "metadata": {},
   "outputs": [],
   "source": [
    "df = pd.read_csv('nyc-rolling-sales.csv')\n",
    "df['SALE PRICE'] = pd.to_numeric(df['SALE PRICE'], errors='coerce')\n",
    "df = df.dropna(subset=['SALE PRICE'])\n",
    "df['SALE PRICE'] = df['SALE PRICE'].astype(int)"
   ]
  },
  {
   "cell_type": "markdown",
   "id": "4772776e",
   "metadata": {},
   "source": [
    "memfilter hanya pada transaksi dengan SALE PRICE > 0"
   ]
  },
  {
   "cell_type": "code",
   "execution_count": 69,
   "id": "995fbf51",
   "metadata": {},
   "outputs": [],
   "source": [
    "df = df[df['SALE PRICE'] > 0]"
   ]
  },
  {
   "cell_type": "markdown",
   "id": "97bcac40",
   "metadata": {},
   "source": [
    "memfilter hanya pada apartemen di Manhattan atau Brooklyn"
   ]
  },
  {
   "cell_type": "code",
   "execution_count": 70,
   "id": "7a0e7a8b",
   "metadata": {},
   "outputs": [],
   "source": [
    "df = df[df['BOROUGH'].isin(['Manhattan', 'Brooklyn'])]"
   ]
  },
  {
   "cell_type": "markdown",
   "id": "b0e32586",
   "metadata": {},
   "source": [
    "melakukan t-test"
   ]
  },
  {
   "cell_type": "code",
   "execution_count": 71,
   "id": "a686dc67",
   "metadata": {},
   "outputs": [],
   "source": [
    "manhattan_prices = df[df['BOROUGH'] == 'Manhattan']['SALE PRICE']\n",
    "brooklyn_prices = df[df['BOROUGH'] == 'Brooklyn']['SALE PRICE']\n",
    "t_stat, p_value = ttest_ind(manhattan_prices, brooklyn_prices, equal_var=False)"
   ]
  },
  {
   "cell_type": "markdown",
   "id": "a5d7a59d",
   "metadata": {},
   "source": [
    "menampilkan hasil t-test"
   ]
  },
  {
   "cell_type": "code",
   "execution_count": 72,
   "id": "5c2debd3",
   "metadata": {},
   "outputs": [
    {
     "name": "stdout",
     "output_type": "stream",
     "text": [
      "T-statistic: nan\n",
      "P-value: nan\n"
     ]
    }
   ],
   "source": [
    "print('T-statistic:', t_stat)\n",
    "print('P-value:', p_value)"
   ]
  },
  {
   "cell_type": "markdown",
   "id": "a0391f6f",
   "metadata": {},
   "source": [
    "menentukan apakah hipotesis nol ditolak atau tidak"
   ]
  },
  {
   "cell_type": "code",
   "execution_count": 73,
   "id": "4b3cd69b",
   "metadata": {},
   "outputs": [
    {
     "name": "stdout",
     "output_type": "stream",
     "text": [
      "Hipotesis nol diterima\n"
     ]
    }
   ],
   "source": [
    "alpha = 0.05\n",
    "if p_value < alpha:\n",
    "    print('Hipotesis nol ditolak')\n",
    "else:\n",
    "    print('Hipotesis nol diterima')"
   ]
  }
 ],
 "metadata": {
  "kernelspec": {
   "display_name": "Python 3 (ipykernel)",
   "language": "python",
   "name": "python3"
  },
  "language_info": {
   "codemirror_mode": {
    "name": "ipython",
    "version": 3
   },
   "file_extension": ".py",
   "mimetype": "text/x-python",
   "name": "python",
   "nbconvert_exporter": "python",
   "pygments_lexer": "ipython3",
   "version": "3.9.13"
  }
 },
 "nbformat": 4,
 "nbformat_minor": 5
}
